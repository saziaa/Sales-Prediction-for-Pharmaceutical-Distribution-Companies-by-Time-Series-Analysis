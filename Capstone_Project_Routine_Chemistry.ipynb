{
  "cells": [
    {
      "cell_type": "markdown",
      "metadata": {
        "id": "view-in-github",
        "colab_type": "text"
      },
      "source": [
        "<a href=\"https://colab.research.google.com/github/saziaa/Sales-Prediction-for-Pharmaceutical-Distribution-Companies-by-Time-Series-Analysis/blob/main/Capstone_Project_Routine_Chemistry.ipynb\" target=\"_parent\"><img src=\"https://colab.research.google.com/assets/colab-badge.svg\" alt=\"Open In Colab\"/></a>"
      ]
    },
    {
      "cell_type": "code",
      "execution_count": null,
      "metadata": {
        "id": "j12lgPJpAsHo"
      },
      "outputs": [],
      "source": [
        "import pandas as pd\n",
        "import numpy as np\n",
        "\n",
        "# Matplotlib visualization\n",
        "import matplotlib.pyplot as plt\n",
        "%matplotlib inline\n",
        "\n",
        "# Internal ipython tool for setting figure size\n",
        "from IPython.core.pylabtools import figsize\n",
        "\n",
        "# Seaborn for visualization\n",
        "import seaborn as sns\n",
        "sns.set(font_scale = 1.0)\n",
        "\n",
        "# Splitting data into training and testing\n",
        "from sklearn.model_selection import train_test_split\n",
        "\n",
        "import plotly.express as px\n",
        "import plotly.graph_objs as go\n",
        "from plotly.subplots import make_subplots"
      ]
    },
    {
      "cell_type": "markdown",
      "metadata": {
        "id": "-xGmJySJBCnP"
      },
      "source": [
        "##**Load the dataset**"
      ]
    },
    {
      "cell_type": "code",
      "execution_count": null,
      "metadata": {
        "colab": {
          "base_uri": "https://localhost:8080/",
          "height": 342
        },
        "id": "ivgP6vEvBNbK",
        "outputId": "32df4c67-5196-4303-b9fd-3be1b9afdfe2"
      },
      "outputs": [
        {
          "data": {
            "text/html": [
              "\n",
              "  <div id=\"df-a6ccb4b6-f696-4deb-99e7-9b81736bada1\" class=\"colab-df-container\">\n",
              "    <div>\n",
              "<style scoped>\n",
              "    .dataframe tbody tr th:only-of-type {\n",
              "        vertical-align: middle;\n",
              "    }\n",
              "\n",
              "    .dataframe tbody tr th {\n",
              "        vertical-align: top;\n",
              "    }\n",
              "\n",
              "    .dataframe thead th {\n",
              "        text-align: right;\n",
              "    }\n",
              "</style>\n",
              "<table border=\"1\" class=\"dataframe\">\n",
              "  <thead>\n",
              "    <tr style=\"text-align: right;\">\n",
              "      <th></th>\n",
              "      <th>SampleID</th>\n",
              "      <th>Date</th>\n",
              "      <th>Source</th>\n",
              "      <th>WellDepth</th>\n",
              "      <th>Alkalinity</th>\n",
              "      <th>Bicarbonate</th>\n",
              "      <th>Calcium</th>\n",
              "      <th>Carbonate</th>\n",
              "      <th>Chloride</th>\n",
              "      <th>Conductivity</th>\n",
              "      <th>...</th>\n",
              "      <th>Nitrite</th>\n",
              "      <th>pH</th>\n",
              "      <th>Potassium</th>\n",
              "      <th>Iron</th>\n",
              "      <th>Sodium</th>\n",
              "      <th>Sulfate</th>\n",
              "      <th>TDS</th>\n",
              "      <th>Latitude</th>\n",
              "      <th>Longitude</th>\n",
              "      <th>STRM</th>\n",
              "    </tr>\n",
              "  </thead>\n",
              "  <tbody>\n",
              "    <tr>\n",
              "      <th>0</th>\n",
              "      <td>N736760</td>\n",
              "      <td>2001-11-26</td>\n",
              "      <td>Well</td>\n",
              "      <td>-50</td>\n",
              "      <td>592.9</td>\n",
              "      <td>615.0</td>\n",
              "      <td>20.52</td>\n",
              "      <td>53.3</td>\n",
              "      <td>2.30</td>\n",
              "      <td>2350.0</td>\n",
              "      <td>...</td>\n",
              "      <td>0.0</td>\n",
              "      <td>8.89</td>\n",
              "      <td>1.84</td>\n",
              "      <td>0.0300</td>\n",
              "      <td>506.1</td>\n",
              "      <td>610.9</td>\n",
              "      <td>1505.38</td>\n",
              "      <td>52.252161</td>\n",
              "      <td>-113.445382</td>\n",
              "      <td>S12T38R25M4</td>\n",
              "    </tr>\n",
              "    <tr>\n",
              "      <th>1</th>\n",
              "      <td>N651096</td>\n",
              "      <td>2001-11-27</td>\n",
              "      <td>Well</td>\n",
              "      <td>80</td>\n",
              "      <td>570.2</td>\n",
              "      <td>637.5</td>\n",
              "      <td>3.74</td>\n",
              "      <td>28.6</td>\n",
              "      <td>0.64</td>\n",
              "      <td>1091.0</td>\n",
              "      <td>...</td>\n",
              "      <td>0.0</td>\n",
              "      <td>8.65</td>\n",
              "      <td>1.18</td>\n",
              "      <td>0.0077</td>\n",
              "      <td>275.7</td>\n",
              "      <td>40.3</td>\n",
              "      <td>666.35</td>\n",
              "      <td>51.889635</td>\n",
              "      <td>-114.060947</td>\n",
              "      <td>S3T34R1M5</td>\n",
              "    </tr>\n",
              "    <tr>\n",
              "      <th>2</th>\n",
              "      <td>N736757</td>\n",
              "      <td>2001-11-27</td>\n",
              "      <td>Well</td>\n",
              "      <td>160</td>\n",
              "      <td>234.7</td>\n",
              "      <td>254.0</td>\n",
              "      <td>9.83</td>\n",
              "      <td>15.9</td>\n",
              "      <td>0.21</td>\n",
              "      <td>503.0</td>\n",
              "      <td>...</td>\n",
              "      <td>0.0</td>\n",
              "      <td>8.70</td>\n",
              "      <td>1.28</td>\n",
              "      <td>0.1000</td>\n",
              "      <td>105.7</td>\n",
              "      <td>33.0</td>\n",
              "      <td>294.60</td>\n",
              "      <td>51.787698</td>\n",
              "      <td>-114.745800</td>\n",
              "      <td>S35T32R6M5</td>\n",
              "    </tr>\n",
              "    <tr>\n",
              "      <th>3</th>\n",
              "      <td>N651120</td>\n",
              "      <td>2001-12-04</td>\n",
              "      <td>Well</td>\n",
              "      <td>85</td>\n",
              "      <td>410.8</td>\n",
              "      <td>473.6</td>\n",
              "      <td>70.88</td>\n",
              "      <td>13.6</td>\n",
              "      <td>4.70</td>\n",
              "      <td>2210.0</td>\n",
              "      <td>...</td>\n",
              "      <td>0.6</td>\n",
              "      <td>8.42</td>\n",
              "      <td>4.08</td>\n",
              "      <td>0.1500</td>\n",
              "      <td>433.1</td>\n",
              "      <td>683.1</td>\n",
              "      <td>1464.83</td>\n",
              "      <td>51.933345</td>\n",
              "      <td>-114.060944</td>\n",
              "      <td>S22T34R1M5</td>\n",
              "    </tr>\n",
              "    <tr>\n",
              "      <th>4</th>\n",
              "      <td>N651126</td>\n",
              "      <td>2001-12-04</td>\n",
              "      <td>Well</td>\n",
              "      <td>123</td>\n",
              "      <td>421.1</td>\n",
              "      <td>444.0</td>\n",
              "      <td>9.45</td>\n",
              "      <td>34.3</td>\n",
              "      <td>0.30</td>\n",
              "      <td>824.0</td>\n",
              "      <td>...</td>\n",
              "      <td>0.0</td>\n",
              "      <td>8.86</td>\n",
              "      <td>1.84</td>\n",
              "      <td>0.0300</td>\n",
              "      <td>188.4</td>\n",
              "      <td>32.6</td>\n",
              "      <td>488.31</td>\n",
              "      <td>51.918729</td>\n",
              "      <td>-114.462437</td>\n",
              "      <td>S14T34R4M5</td>\n",
              "    </tr>\n",
              "  </tbody>\n",
              "</table>\n",
              "<p>5 rows × 25 columns</p>\n",
              "</div>\n",
              "    <div class=\"colab-df-buttons\">\n",
              "\n",
              "  <div class=\"colab-df-container\">\n",
              "    <button class=\"colab-df-convert\" onclick=\"convertToInteractive('df-a6ccb4b6-f696-4deb-99e7-9b81736bada1')\"\n",
              "            title=\"Convert this dataframe to an interactive table.\"\n",
              "            style=\"display:none;\">\n",
              "\n",
              "  <svg xmlns=\"http://www.w3.org/2000/svg\" height=\"24px\" viewBox=\"0 -960 960 960\">\n",
              "    <path d=\"M120-120v-720h720v720H120Zm60-500h600v-160H180v160Zm220 220h160v-160H400v160Zm0 220h160v-160H400v160ZM180-400h160v-160H180v160Zm440 0h160v-160H620v160ZM180-180h160v-160H180v160Zm440 0h160v-160H620v160Z\"/>\n",
              "  </svg>\n",
              "    </button>\n",
              "\n",
              "  <style>\n",
              "    .colab-df-container {\n",
              "      display:flex;\n",
              "      gap: 12px;\n",
              "    }\n",
              "\n",
              "    .colab-df-convert {\n",
              "      background-color: #E8F0FE;\n",
              "      border: none;\n",
              "      border-radius: 50%;\n",
              "      cursor: pointer;\n",
              "      display: none;\n",
              "      fill: #1967D2;\n",
              "      height: 32px;\n",
              "      padding: 0 0 0 0;\n",
              "      width: 32px;\n",
              "    }\n",
              "\n",
              "    .colab-df-convert:hover {\n",
              "      background-color: #E2EBFA;\n",
              "      box-shadow: 0px 1px 2px rgba(60, 64, 67, 0.3), 0px 1px 3px 1px rgba(60, 64, 67, 0.15);\n",
              "      fill: #174EA6;\n",
              "    }\n",
              "\n",
              "    .colab-df-buttons div {\n",
              "      margin-bottom: 4px;\n",
              "    }\n",
              "\n",
              "    [theme=dark] .colab-df-convert {\n",
              "      background-color: #3B4455;\n",
              "      fill: #D2E3FC;\n",
              "    }\n",
              "\n",
              "    [theme=dark] .colab-df-convert:hover {\n",
              "      background-color: #434B5C;\n",
              "      box-shadow: 0px 1px 3px 1px rgba(0, 0, 0, 0.15);\n",
              "      filter: drop-shadow(0px 1px 2px rgba(0, 0, 0, 0.3));\n",
              "      fill: #FFFFFF;\n",
              "    }\n",
              "  </style>\n",
              "\n",
              "    <script>\n",
              "      const buttonEl =\n",
              "        document.querySelector('#df-a6ccb4b6-f696-4deb-99e7-9b81736bada1 button.colab-df-convert');\n",
              "      buttonEl.style.display =\n",
              "        google.colab.kernel.accessAllowed ? 'block' : 'none';\n",
              "\n",
              "      async function convertToInteractive(key) {\n",
              "        const element = document.querySelector('#df-a6ccb4b6-f696-4deb-99e7-9b81736bada1');\n",
              "        const dataTable =\n",
              "          await google.colab.kernel.invokeFunction('convertToInteractive',\n",
              "                                                    [key], {});\n",
              "        if (!dataTable) return;\n",
              "\n",
              "        const docLinkHtml = 'Like what you see? Visit the ' +\n",
              "          '<a target=\"_blank\" href=https://colab.research.google.com/notebooks/data_table.ipynb>data table notebook</a>'\n",
              "          + ' to learn more about interactive tables.';\n",
              "        element.innerHTML = '';\n",
              "        dataTable['output_type'] = 'display_data';\n",
              "        await google.colab.output.renderOutput(dataTable, element);\n",
              "        const docLink = document.createElement('div');\n",
              "        docLink.innerHTML = docLinkHtml;\n",
              "        element.appendChild(docLink);\n",
              "      }\n",
              "    </script>\n",
              "  </div>\n",
              "\n",
              "\n",
              "<div id=\"df-6336aae9-0d53-46f4-884d-cb59a5578dfc\">\n",
              "  <button class=\"colab-df-quickchart\" onclick=\"quickchart('df-6336aae9-0d53-46f4-884d-cb59a5578dfc')\"\n",
              "            title=\"Suggest charts\"\n",
              "            style=\"display:none;\">\n",
              "\n",
              "<svg xmlns=\"http://www.w3.org/2000/svg\" height=\"24px\"viewBox=\"0 0 24 24\"\n",
              "     width=\"24px\">\n",
              "    <g>\n",
              "        <path d=\"M19 3H5c-1.1 0-2 .9-2 2v14c0 1.1.9 2 2 2h14c1.1 0 2-.9 2-2V5c0-1.1-.9-2-2-2zM9 17H7v-7h2v7zm4 0h-2V7h2v10zm4 0h-2v-4h2v4z\"/>\n",
              "    </g>\n",
              "</svg>\n",
              "  </button>\n",
              "\n",
              "<style>\n",
              "  .colab-df-quickchart {\n",
              "      --bg-color: #E8F0FE;\n",
              "      --fill-color: #1967D2;\n",
              "      --hover-bg-color: #E2EBFA;\n",
              "      --hover-fill-color: #174EA6;\n",
              "      --disabled-fill-color: #AAA;\n",
              "      --disabled-bg-color: #DDD;\n",
              "  }\n",
              "\n",
              "  [theme=dark] .colab-df-quickchart {\n",
              "      --bg-color: #3B4455;\n",
              "      --fill-color: #D2E3FC;\n",
              "      --hover-bg-color: #434B5C;\n",
              "      --hover-fill-color: #FFFFFF;\n",
              "      --disabled-bg-color: #3B4455;\n",
              "      --disabled-fill-color: #666;\n",
              "  }\n",
              "\n",
              "  .colab-df-quickchart {\n",
              "    background-color: var(--bg-color);\n",
              "    border: none;\n",
              "    border-radius: 50%;\n",
              "    cursor: pointer;\n",
              "    display: none;\n",
              "    fill: var(--fill-color);\n",
              "    height: 32px;\n",
              "    padding: 0;\n",
              "    width: 32px;\n",
              "  }\n",
              "\n",
              "  .colab-df-quickchart:hover {\n",
              "    background-color: var(--hover-bg-color);\n",
              "    box-shadow: 0 1px 2px rgba(60, 64, 67, 0.3), 0 1px 3px 1px rgba(60, 64, 67, 0.15);\n",
              "    fill: var(--button-hover-fill-color);\n",
              "  }\n",
              "\n",
              "  .colab-df-quickchart-complete:disabled,\n",
              "  .colab-df-quickchart-complete:disabled:hover {\n",
              "    background-color: var(--disabled-bg-color);\n",
              "    fill: var(--disabled-fill-color);\n",
              "    box-shadow: none;\n",
              "  }\n",
              "\n",
              "  .colab-df-spinner {\n",
              "    border: 2px solid var(--fill-color);\n",
              "    border-color: transparent;\n",
              "    border-bottom-color: var(--fill-color);\n",
              "    animation:\n",
              "      spin 1s steps(1) infinite;\n",
              "  }\n",
              "\n",
              "  @keyframes spin {\n",
              "    0% {\n",
              "      border-color: transparent;\n",
              "      border-bottom-color: var(--fill-color);\n",
              "      border-left-color: var(--fill-color);\n",
              "    }\n",
              "    20% {\n",
              "      border-color: transparent;\n",
              "      border-left-color: var(--fill-color);\n",
              "      border-top-color: var(--fill-color);\n",
              "    }\n",
              "    30% {\n",
              "      border-color: transparent;\n",
              "      border-left-color: var(--fill-color);\n",
              "      border-top-color: var(--fill-color);\n",
              "      border-right-color: var(--fill-color);\n",
              "    }\n",
              "    40% {\n",
              "      border-color: transparent;\n",
              "      border-right-color: var(--fill-color);\n",
              "      border-top-color: var(--fill-color);\n",
              "    }\n",
              "    60% {\n",
              "      border-color: transparent;\n",
              "      border-right-color: var(--fill-color);\n",
              "    }\n",
              "    80% {\n",
              "      border-color: transparent;\n",
              "      border-right-color: var(--fill-color);\n",
              "      border-bottom-color: var(--fill-color);\n",
              "    }\n",
              "    90% {\n",
              "      border-color: transparent;\n",
              "      border-bottom-color: var(--fill-color);\n",
              "    }\n",
              "  }\n",
              "</style>\n",
              "\n",
              "  <script>\n",
              "    async function quickchart(key) {\n",
              "      const quickchartButtonEl =\n",
              "        document.querySelector('#' + key + ' button');\n",
              "      quickchartButtonEl.disabled = true;  // To prevent multiple clicks.\n",
              "      quickchartButtonEl.classList.add('colab-df-spinner');\n",
              "      try {\n",
              "        const charts = await google.colab.kernel.invokeFunction(\n",
              "            'suggestCharts', [key], {});\n",
              "      } catch (error) {\n",
              "        console.error('Error during call to suggestCharts:', error);\n",
              "      }\n",
              "      quickchartButtonEl.classList.remove('colab-df-spinner');\n",
              "      quickchartButtonEl.classList.add('colab-df-quickchart-complete');\n",
              "    }\n",
              "    (() => {\n",
              "      let quickchartButtonEl =\n",
              "        document.querySelector('#df-6336aae9-0d53-46f4-884d-cb59a5578dfc button');\n",
              "      quickchartButtonEl.style.display =\n",
              "        google.colab.kernel.accessAllowed ? 'block' : 'none';\n",
              "    })();\n",
              "  </script>\n",
              "</div>\n",
              "    </div>\n",
              "  </div>\n"
            ],
            "text/plain": [
              "  SampleID       Date Source  WellDepth  Alkalinity  Bicarbonate  Calcium  \\\n",
              "0  N736760 2001-11-26   Well        -50       592.9        615.0    20.52   \n",
              "1  N651096 2001-11-27   Well         80       570.2        637.5     3.74   \n",
              "2  N736757 2001-11-27   Well        160       234.7        254.0     9.83   \n",
              "3  N651120 2001-12-04   Well         85       410.8        473.6    70.88   \n",
              "4  N651126 2001-12-04   Well        123       421.1        444.0     9.45   \n",
              "\n",
              "   Carbonate  Chloride  Conductivity  ...  Nitrite    pH  Potassium    Iron  \\\n",
              "0       53.3      2.30        2350.0  ...      0.0  8.89       1.84  0.0300   \n",
              "1       28.6      0.64        1091.0  ...      0.0  8.65       1.18  0.0077   \n",
              "2       15.9      0.21         503.0  ...      0.0  8.70       1.28  0.1000   \n",
              "3       13.6      4.70        2210.0  ...      0.6  8.42       4.08  0.1500   \n",
              "4       34.3      0.30         824.0  ...      0.0  8.86       1.84  0.0300   \n",
              "\n",
              "   Sodium  Sulfate      TDS   Latitude   Longitude         STRM  \n",
              "0   506.1    610.9  1505.38  52.252161 -113.445382  S12T38R25M4  \n",
              "1   275.7     40.3   666.35  51.889635 -114.060947    S3T34R1M5  \n",
              "2   105.7     33.0   294.60  51.787698 -114.745800   S35T32R6M5  \n",
              "3   433.1    683.1  1464.83  51.933345 -114.060944   S22T34R1M5  \n",
              "4   188.4     32.6   488.31  51.918729 -114.462437   S14T34R4M5  \n",
              "\n",
              "[5 rows x 25 columns]"
            ]
          },
          "execution_count": 27,
          "metadata": {},
          "output_type": "execute_result"
        }
      ],
      "source": [
        "# Loading the training data from the xlsx file into a pandas dataframe\n",
        "data_routine= pd.read_excel('/content/Combined routine-chemistry-analysis-26Nov01-29Mar19.xlsx')\n",
        "data_routine.head()"
      ]
    },
    {
      "cell_type": "code",
      "execution_count": null,
      "metadata": {
        "colab": {
          "base_uri": "https://localhost:8080/"
        },
        "id": "_Eo9kl0WTlol",
        "outputId": "71d20433-91cc-4d4c-beb6-1922b6e9131a"
      },
      "outputs": [
        {
          "name": "stdout",
          "output_type": "stream",
          "text": [
            "Number of rows with value -99 in 'SampleID' column: 0\n",
            "Number of rows with value -99 in 'Date' column: 0\n",
            "Number of rows with value -99 in 'Source' column: 0\n",
            "Number of rows with value -99 in 'WellDepth' column: 0\n",
            "Number of rows with value -99 in 'Alkalinity' column: 11\n",
            "Number of rows with value -99 in 'Bicarbonate' column: 9\n",
            "Number of rows with value -99 in 'Calcium' column: 1\n",
            "Number of rows with value -99 in 'Carbonate' column: 2\n",
            "Number of rows with value -99 in 'Chloride' column: 1\n",
            "Number of rows with value -99 in 'Conductivity' column: 2\n",
            "Number of rows with value -99 in 'Fluoride' column: 1\n",
            "Number of rows with value -99 in 'Hardness' column: 1\n",
            "Number of rows with value -99 in 'Hydroxide' column: 2\n",
            "Number of rows with value -99 in 'Magnesium' column: 1\n",
            "Number of rows with value -99 in 'Nitrate' column: 0\n",
            "Number of rows with value -99 in 'Nitrite' column: 0\n",
            "Number of rows with value -99 in 'pH' column: 2\n",
            "Number of rows with value -99 in 'Potassium' column: 1\n",
            "Number of rows with value -99 in 'Iron' column: 129\n",
            "Number of rows with value -99 in 'Sodium' column: 1\n",
            "Number of rows with value -99 in 'Sulfate' column: 1\n",
            "Number of rows with value -99 in 'TDS' column: 1\n",
            "Number of rows with value -99 in 'Latitude' column: 0\n",
            "Number of rows with value -99 in 'Longitude' column: 0\n",
            "Number of rows with value -99 in 'STRM' column: 0\n"
          ]
        }
      ],
      "source": [
        "# Count the number of rows with value equal to \"-99\" in each column\n",
        "count_negative_99 = {}\n",
        "\n",
        "for column in data_routine.columns:\n",
        "    count_negative_99[column] = (data_routine[column] == -99).sum()\n",
        "\n",
        "# Print the counts for each column\n",
        "for column, count in count_negative_99.items():\n",
        "    print(f\"Number of rows with value -99 in '{column}' column: {count}\")\n"
      ]
    },
    {
      "cell_type": "code",
      "execution_count": null,
      "metadata": {
        "colab": {
          "base_uri": "https://localhost:8080/"
        },
        "id": "aHa7DLjNUequ",
        "outputId": "115a9abc-de8f-4400-b68d-f0594a4653f5"
      },
      "outputs": [
        {
          "name": "stdout",
          "output_type": "stream",
          "text": [
            "There are negative values in 'WellDepth' column.\n",
            "There are negative values in 'Alkalinity' column.\n",
            "There are negative values in 'Bicarbonate' column.\n",
            "There are negative values in 'Calcium' column.\n",
            "There are negative values in 'Carbonate' column.\n",
            "There are negative values in 'Chloride' column.\n",
            "There are negative values in 'Conductivity' column.\n",
            "There are negative values in 'Fluoride' column.\n",
            "There are negative values in 'Hardness' column.\n",
            "There are negative values in 'Hydroxide' column.\n",
            "There are negative values in 'Magnesium' column.\n",
            "There are negative values in 'Nitrate' column.\n",
            "There are negative values in 'Nitrite' column.\n",
            "There are negative values in 'pH' column.\n",
            "There are negative values in 'Potassium' column.\n",
            "There are negative values in 'Iron' column.\n",
            "There are negative values in 'Sodium' column.\n",
            "There are negative values in 'Sulfate' column.\n",
            "There are negative values in 'TDS' column.\n",
            "No negative values in 'Latitude' column.\n",
            "There are negative values in 'Longitude' column.\n"
          ]
        }
      ],
      "source": [
        "# Exclude datetime columns from the comparison\n",
        "numeric_columns = data_routine.select_dtypes(include=['number']).columns\n",
        "\n",
        "# Check for negative values in each numeric column\n",
        "negative_values_per_column = (data_routine[numeric_columns] < 0).any()\n",
        "\n",
        "# Print the result for each column\n",
        "for column, has_negative in negative_values_per_column.items():\n",
        "    if has_negative:\n",
        "        print(f\"There are negative values in '{column}' column.\")\n",
        "    else:\n",
        "        print(f\"No negative values in '{column}' column.\")\n",
        "\n"
      ]
    },
    {
      "cell_type": "code",
      "execution_count": null,
      "metadata": {
        "colab": {
          "base_uri": "https://localhost:8080/"
        },
        "id": "Xqb-fQ7n_LFv",
        "outputId": "3f8e2e0c-e72d-422e-95e5-9913b3473f38"
      },
      "outputs": [
        {
          "name": "stdout",
          "output_type": "stream",
          "text": [
            "Number of rows with value -0.1 in Calcium column: 319\n"
          ]
        }
      ],
      "source": [
        "# Count the number of rows with value equal to \"-0.1\" in the 'Calcium' column\n",
        "count_negative_loq = (data_routine['Calcium'] == -0.1).sum()\n",
        "\n",
        "# Print the count\n",
        "print(\"Number of rows with value -0.1 in Calcium column:\", count_negative_loq)"
      ]
    },
    {
      "cell_type": "code",
      "execution_count": null,
      "metadata": {
        "colab": {
          "base_uri": "https://localhost:8080/"
        },
        "id": "ji8YUq7IVSZr",
        "outputId": "a5ce25e3-2de9-4eb8-c67f-882bec7758eb"
      },
      "outputs": [
        {
          "name": "stdout",
          "output_type": "stream",
          "text": [
            "Number of rows with value -1 in Chloride column: 13319\n"
          ]
        }
      ],
      "source": [
        "# Count the number of rows with value equal to \"-1\" in the 'Chloride' column\n",
        "count_negative_loq = (data_routine['Chloride'] == -1).sum()\n",
        "\n",
        "# Print the count\n",
        "print(\"Number of rows with value -1 in Chloride column:\", count_negative_loq)"
      ]
    },
    {
      "cell_type": "code",
      "execution_count": null,
      "metadata": {
        "colab": {
          "base_uri": "https://localhost:8080/"
        },
        "id": "D3Up7E9nVSvB",
        "outputId": "4049b5a3-ec27-4421-878a-b656b8910c9d"
      },
      "outputs": [
        {
          "name": "stdout",
          "output_type": "stream",
          "text": [
            "Number of rows with value -0.66 in Hardness column: 7\n"
          ]
        }
      ],
      "source": [
        "# Count the number of rows with value equal to \"-0.66\" in the 'Hardness' column\n",
        "count_negative_loq = (data_routine['Hardness'] == -0.66).sum()\n",
        "\n",
        "# Print the count\n",
        "print(\"Number of rows with value -0.66 in Hardness column:\", count_negative_loq)"
      ]
    },
    {
      "cell_type": "code",
      "execution_count": null,
      "metadata": {
        "colab": {
          "base_uri": "https://localhost:8080/"
        },
        "id": "ejFw8iTUWSB-",
        "outputId": "202123aa-c06f-4e2c-b059-c7808506d245"
      },
      "outputs": [
        {
          "name": "stdout",
          "output_type": "stream",
          "text": [
            "Number of rows with value -0.66 in Magnesium column: 961\n"
          ]
        }
      ],
      "source": [
        "# Count the number of rows with value equal to \"-0.66\" in the 'Magnesium' column\n",
        "count_negative_loq = (data_routine['Magnesium'] == -0.1).sum()\n",
        "\n",
        "# Print the count\n",
        "print(\"Number of rows with value -0.66 in Magnesium column:\", count_negative_loq)"
      ]
    },
    {
      "cell_type": "code",
      "execution_count": null,
      "metadata": {
        "colab": {
          "base_uri": "https://localhost:8080/"
        },
        "id": "AMJct4tkW8OU",
        "outputId": "638a16a7-dbad-4913-9d76-dad731fc204a"
      },
      "outputs": [
        {
          "name": "stdout",
          "output_type": "stream",
          "text": [
            "Number of rows with value -0.23 in Nitrate column: 53854\n"
          ]
        }
      ],
      "source": [
        "# Count the number of rows with value equal to \"-0.23\" in the 'Nitrate' column\n",
        "count_negative_loq = (data_routine['Nitrate'] == -0.23).sum()\n",
        "\n",
        "# Print the count\n",
        "print(\"Number of rows with value -0.23 in Nitrate column:\", count_negative_loq)"
      ]
    },
    {
      "cell_type": "code",
      "execution_count": null,
      "metadata": {
        "colab": {
          "base_uri": "https://localhost:8080/"
        },
        "id": "sHW_kZbxZcqn",
        "outputId": "de8013a6-2659-4b86-b2ea-127e6e1fb1d5"
      },
      "outputs": [
        {
          "name": "stdout",
          "output_type": "stream",
          "text": [
            "Number of rows with value -0.03 in Nitrite column: 58431\n"
          ]
        }
      ],
      "source": [
        "# Count the number of rows with value equal to \"-0.03\" in the 'Nitrite' column\n",
        "count_negative_loq = (data_routine['Nitrite'] == -0.03).sum()\n",
        "\n",
        "# Print the count\n",
        "print(\"Number of rows with value -0.03 in Nitrite column:\", count_negative_loq)"
      ]
    },
    {
      "cell_type": "code",
      "execution_count": null,
      "metadata": {
        "colab": {
          "base_uri": "https://localhost:8080/"
        },
        "id": "ax4TLbeIavY8",
        "outputId": "cc4947fa-b4af-4215-85cc-0a1d2e32521c"
      },
      "outputs": [
        {
          "name": "stdout",
          "output_type": "stream",
          "text": [
            "Number of rows with value -0.1 in Potassium column: 232\n"
          ]
        }
      ],
      "source": [
        "# Count the number of rows with value equal to \"-0.1\" in the 'Potassium' column\n",
        "count_negative_loq = (data_routine['Potassium'] == -0.1).sum()\n",
        "\n",
        "# Print the count\n",
        "print(\"Number of rows with value -0.1 in Potassium column:\", count_negative_loq)"
      ]
    },
    {
      "cell_type": "code",
      "execution_count": null,
      "metadata": {
        "colab": {
          "base_uri": "https://localhost:8080/"
        },
        "id": "k7VNbxRAcmgX",
        "outputId": "74c4ec3b-1a8a-41fe-bc26-ca79840a6923"
      },
      "outputs": [
        {
          "name": "stdout",
          "output_type": "stream",
          "text": [
            "Number of rows with value -0.01 in Iron column: 17263\n"
          ]
        }
      ],
      "source": [
        "# Count the number of rows with value equal to \"-0.01\" in the 'Iron' column\n",
        "count_negative_loq = (data_routine['Iron'] == -0.01).sum()\n",
        "\n",
        "# Print the count\n",
        "print(\"Number of rows with value -0.01 in Iron column:\", count_negative_loq)"
      ]
    },
    {
      "cell_type": "code",
      "execution_count": null,
      "metadata": {
        "colab": {
          "base_uri": "https://localhost:8080/"
        },
        "id": "5iMe6nk4c7Dt",
        "outputId": "541dc744-8b8e-4311-bbac-f2d8c0b932f5"
      },
      "outputs": [
        {
          "name": "stdout",
          "output_type": "stream",
          "text": [
            "Number of rows with value -1 in Sodium column: 53\n"
          ]
        }
      ],
      "source": [
        "# Count the number of rows with value equal to \"-1\" in the 'Sodium' column\n",
        "count_negative_loq = (data_routine['Sodium'] == -1).sum()\n",
        "\n",
        "# Print the count\n",
        "print(\"Number of rows with value -1 in Sodium column:\", count_negative_loq)"
      ]
    },
    {
      "cell_type": "code",
      "execution_count": null,
      "metadata": {
        "colab": {
          "base_uri": "https://localhost:8080/"
        },
        "id": "MtUmHo7bdJ9O",
        "outputId": "1c40bb37-d51b-4002-87b4-084c9e58e79f"
      },
      "outputs": [
        {
          "name": "stdout",
          "output_type": "stream",
          "text": [
            "Number of rows with value -1 in Sulfate column: 6240\n"
          ]
        }
      ],
      "source": [
        "# Count the number of rows with value equal to \"-1\" in the 'Sulfate' column\n",
        "count_negative_loq = (data_routine['Sulfate'] == -1).sum()\n",
        "\n",
        "# Print the count\n",
        "print(\"Number of rows with value -1 in Sulfate column:\", count_negative_loq)"
      ]
    },
    {
      "cell_type": "code",
      "execution_count": null,
      "metadata": {
        "colab": {
          "base_uri": "https://localhost:8080/"
        },
        "id": "0Cb5v3JLdSXP",
        "outputId": "cde486ea-d230-46b2-bd4c-c3eb7af89381"
      },
      "outputs": [
        {
          "name": "stdout",
          "output_type": "stream",
          "text": [
            "Number of rows with value -5.11 in TDS column: 1\n"
          ]
        }
      ],
      "source": [
        "# Count the number of rows with value equal to \"-5.11\" in the 'TDS' column\n",
        "count_negative_loq = (data_routine['TDS'] == -5.11).sum()\n",
        "\n",
        "# Print the count\n",
        "print(\"Number of rows with value -5.11 in TDS column:\", count_negative_loq)"
      ]
    },
    {
      "cell_type": "markdown",
      "metadata": {
        "id": "j7mBNMfQBM7B"
      },
      "source": [
        "##**Profile Report**"
      ]
    },
    {
      "cell_type": "code",
      "execution_count": null,
      "metadata": {
        "colab": {
          "base_uri": "https://localhost:8080/"
        },
        "id": "1E7V22cuBXHY",
        "outputId": "9faa9908-7ef6-4f16-b8d5-9c42494f8036"
      },
      "outputs": [
        {
          "name": "stdout",
          "output_type": "stream",
          "text": [
            "Requirement already satisfied: ydata-profiling in /usr/local/lib/python3.10/dist-packages (4.6.4)\n",
            "Requirement already satisfied: scipy<1.12,>=1.4.1 in /usr/local/lib/python3.10/dist-packages (from ydata-profiling) (1.11.4)\n",
            "Requirement already satisfied: pandas!=1.4.0,<3,>1.1 in /usr/local/lib/python3.10/dist-packages (from ydata-profiling) (1.5.3)\n",
            "Requirement already satisfied: matplotlib<3.9,>=3.2 in /usr/local/lib/python3.10/dist-packages (from ydata-profiling) (3.7.1)\n",
            "Requirement already satisfied: pydantic>=2 in /usr/local/lib/python3.10/dist-packages (from ydata-profiling) (2.6.1)\n",
            "Requirement already satisfied: PyYAML<6.1,>=5.0.0 in /usr/local/lib/python3.10/dist-packages (from ydata-profiling) (6.0.1)\n",
            "Requirement already satisfied: jinja2<3.2,>=2.11.1 in /usr/local/lib/python3.10/dist-packages (from ydata-profiling) (3.1.3)\n",
            "Requirement already satisfied: visions[type_image_path]==0.7.5 in /usr/local/lib/python3.10/dist-packages (from ydata-profiling) (0.7.5)\n",
            "Requirement already satisfied: numpy<1.26,>=1.16.0 in /usr/local/lib/python3.10/dist-packages (from ydata-profiling) (1.25.2)\n",
            "Requirement already satisfied: htmlmin==0.1.12 in /usr/local/lib/python3.10/dist-packages (from ydata-profiling) (0.1.12)\n",
            "Requirement already satisfied: phik<0.13,>=0.11.1 in /usr/local/lib/python3.10/dist-packages (from ydata-profiling) (0.12.4)\n",
            "Requirement already satisfied: requests<3,>=2.24.0 in /usr/local/lib/python3.10/dist-packages (from ydata-profiling) (2.31.0)\n",
            "Requirement already satisfied: tqdm<5,>=4.48.2 in /usr/local/lib/python3.10/dist-packages (from ydata-profiling) (4.66.1)\n",
            "Requirement already satisfied: seaborn<0.13,>=0.10.1 in /usr/local/lib/python3.10/dist-packages (from ydata-profiling) (0.12.2)\n",
            "Requirement already satisfied: multimethod<2,>=1.4 in /usr/local/lib/python3.10/dist-packages (from ydata-profiling) (1.11)\n",
            "Requirement already satisfied: statsmodels<1,>=0.13.2 in /usr/local/lib/python3.10/dist-packages (from ydata-profiling) (0.14.1)\n",
            "Requirement already satisfied: typeguard<5,>=4.1.2 in /usr/local/lib/python3.10/dist-packages (from ydata-profiling) (4.1.5)\n",
            "Requirement already satisfied: imagehash==4.3.1 in /usr/local/lib/python3.10/dist-packages (from ydata-profiling) (4.3.1)\n",
            "Requirement already satisfied: wordcloud>=1.9.1 in /usr/local/lib/python3.10/dist-packages (from ydata-profiling) (1.9.3)\n",
            "Requirement already satisfied: dacite>=1.8 in /usr/local/lib/python3.10/dist-packages (from ydata-profiling) (1.8.1)\n",
            "Requirement already satisfied: numba<0.59.0,>=0.56.0 in /usr/local/lib/python3.10/dist-packages (from ydata-profiling) (0.58.1)\n",
            "Requirement already satisfied: PyWavelets in /usr/local/lib/python3.10/dist-packages (from imagehash==4.3.1->ydata-profiling) (1.5.0)\n",
            "Requirement already satisfied: pillow in /usr/local/lib/python3.10/dist-packages (from imagehash==4.3.1->ydata-profiling) (9.4.0)\n",
            "Requirement already satisfied: attrs>=19.3.0 in /usr/local/lib/python3.10/dist-packages (from visions[type_image_path]==0.7.5->ydata-profiling) (23.2.0)\n",
            "Requirement already satisfied: networkx>=2.4 in /usr/local/lib/python3.10/dist-packages (from visions[type_image_path]==0.7.5->ydata-profiling) (3.2.1)\n",
            "Requirement already satisfied: tangled-up-in-unicode>=0.0.4 in /usr/local/lib/python3.10/dist-packages (from visions[type_image_path]==0.7.5->ydata-profiling) (0.2.0)\n",
            "Requirement already satisfied: MarkupSafe>=2.0 in /usr/local/lib/python3.10/dist-packages (from jinja2<3.2,>=2.11.1->ydata-profiling) (2.1.5)\n",
            "Requirement already satisfied: contourpy>=1.0.1 in /usr/local/lib/python3.10/dist-packages (from matplotlib<3.9,>=3.2->ydata-profiling) (1.2.0)\n",
            "Requirement already satisfied: cycler>=0.10 in /usr/local/lib/python3.10/dist-packages (from matplotlib<3.9,>=3.2->ydata-profiling) (0.12.1)\n",
            "Requirement already satisfied: fonttools>=4.22.0 in /usr/local/lib/python3.10/dist-packages (from matplotlib<3.9,>=3.2->ydata-profiling) (4.48.1)\n",
            "Requirement already satisfied: kiwisolver>=1.0.1 in /usr/local/lib/python3.10/dist-packages (from matplotlib<3.9,>=3.2->ydata-profiling) (1.4.5)\n",
            "Requirement already satisfied: packaging>=20.0 in /usr/local/lib/python3.10/dist-packages (from matplotlib<3.9,>=3.2->ydata-profiling) (23.2)\n",
            "Requirement already satisfied: pyparsing>=2.3.1 in /usr/local/lib/python3.10/dist-packages (from matplotlib<3.9,>=3.2->ydata-profiling) (3.1.1)\n",
            "Requirement already satisfied: python-dateutil>=2.7 in /usr/local/lib/python3.10/dist-packages (from matplotlib<3.9,>=3.2->ydata-profiling) (2.8.2)\n",
            "Requirement already satisfied: llvmlite<0.42,>=0.41.0dev0 in /usr/local/lib/python3.10/dist-packages (from numba<0.59.0,>=0.56.0->ydata-profiling) (0.41.1)\n",
            "Requirement already satisfied: pytz>=2020.1 in /usr/local/lib/python3.10/dist-packages (from pandas!=1.4.0,<3,>1.1->ydata-profiling) (2023.4)\n",
            "Requirement already satisfied: joblib>=0.14.1 in /usr/local/lib/python3.10/dist-packages (from phik<0.13,>=0.11.1->ydata-profiling) (1.3.2)\n",
            "Requirement already satisfied: annotated-types>=0.4.0 in /usr/local/lib/python3.10/dist-packages (from pydantic>=2->ydata-profiling) (0.6.0)\n",
            "Requirement already satisfied: pydantic-core==2.16.2 in /usr/local/lib/python3.10/dist-packages (from pydantic>=2->ydata-profiling) (2.16.2)\n",
            "Requirement already satisfied: typing-extensions>=4.6.1 in /usr/local/lib/python3.10/dist-packages (from pydantic>=2->ydata-profiling) (4.9.0)\n",
            "Requirement already satisfied: charset-normalizer<4,>=2 in /usr/local/lib/python3.10/dist-packages (from requests<3,>=2.24.0->ydata-profiling) (3.3.2)\n",
            "Requirement already satisfied: idna<4,>=2.5 in /usr/local/lib/python3.10/dist-packages (from requests<3,>=2.24.0->ydata-profiling) (3.6)\n",
            "Requirement already satisfied: urllib3<3,>=1.21.1 in /usr/local/lib/python3.10/dist-packages (from requests<3,>=2.24.0->ydata-profiling) (2.0.7)\n",
            "Requirement already satisfied: certifi>=2017.4.17 in /usr/local/lib/python3.10/dist-packages (from requests<3,>=2.24.0->ydata-profiling) (2024.2.2)\n",
            "Requirement already satisfied: patsy>=0.5.4 in /usr/local/lib/python3.10/dist-packages (from statsmodels<1,>=0.13.2->ydata-profiling) (0.5.6)\n",
            "Requirement already satisfied: six in /usr/local/lib/python3.10/dist-packages (from patsy>=0.5.4->statsmodels<1,>=0.13.2->ydata-profiling) (1.16.0)\n"
          ]
        }
      ],
      "source": [
        "!pip install ydata-profiling"
      ]
    },
    {
      "cell_type": "code",
      "execution_count": null,
      "metadata": {
        "id": "Bw-zFF9QBb-_"
      },
      "outputs": [],
      "source": [
        "from ydata_profiling import ProfileReport"
      ]
    },
    {
      "cell_type": "code",
      "execution_count": null,
      "metadata": {
        "id": "PcaDvWIBBeLw"
      },
      "outputs": [],
      "source": [
        "profile = ProfileReport(data_routine, title=\"Profiling Report\")\n"
      ]
    },
    {
      "cell_type": "code",
      "execution_count": null,
      "metadata": {
        "colab": {
          "base_uri": "https://localhost:8080/",
          "height": 168,
          "referenced_widgets": [
            "373781546f6b41ea80eb1560fd662a96",
            "657bd6a401c9415295070f44bcc147e8",
            "e45172218bad479ba95261d6264fbe8f",
            "1e3a82c9043e4087aac0840f50f01c3d",
            "597dd3bef6d64cf597938bad3326b204",
            "89453bab623d462796e2a475e6157a66",
            "e18f1dbe80b043b2bb0e3de157c6920e",
            "42d430bf9551420ebca2052aad439242",
            "386856fe14cd49329726b38294ea477a",
            "2327e5a52b0b4a60b68ed9dfd1ef1d42",
            "80459a05559348e58d3f29caebd04ae7",
            "0e3eeae418974b2b9373f5aab8d33343",
            "892f78ef714a4fde9d9ad8297b328886",
            "a44fd1ed01a74069afbb33a9fbe0ffb7",
            "7e0d3455b321490c887a77415a05fdb6",
            "356a2fb460e6466a84f133e2f39c8fa4",
            "6af7ed0a7e184c30934622cf4636de2a",
            "dd010d7ac57d4710a6677f6bb0b9069c",
            "ea2cef9d086e471dbc0c1a247164c17d",
            "e8d1bee13fc64f8ba45359dffa48a78e",
            "d46c853442804fcdba5e21df5d44abb3",
            "b46a20d1524043c7a0bcec62163e15fe",
            "39d8b863e715419bb93f3940b400c74e",
            "f6cebdd2fbc5416690c590f97a2be009",
            "35c934dd06144ff986161ec4c4ea0227",
            "4459170e5f5842458643236fb57637cb",
            "0eb2379f4c5f4a79aef98755ce9306bb",
            "72544c1460b64af0b9a1549fb1c0e15c",
            "caebba6a710b4ba688f9cec5161c0d80",
            "8565306650ed4886b567c4788f12d2cf",
            "b467abd9c978471bb69791a577a4ffe8",
            "02244470d1594c17b2f9f699b85df183",
            "b9161c8517314ccbbd5c7bf95db48633"
          ]
        },
        "id": "wJf1ZssJG5cg",
        "outputId": "a762aade-e883-41ad-b96b-ea1b4b3e0700"
      },
      "outputs": [
        {
          "name": "stderr",
          "output_type": "stream",
          "text": [
            "/usr/local/lib/python3.10/dist-packages/ydata_profiling/profile_report.py:522: UserWarning: Ipywidgets is not yet fully supported on Google Colab (https://github.com/googlecolab/colabtools/issues/60).As an alternative, you can use the HTML report. See the documentation for more information.\n",
            "  warnings.warn(\n"
          ]
        },
        {
          "data": {
            "application/vnd.jupyter.widget-view+json": {
              "model_id": "373781546f6b41ea80eb1560fd662a96",
              "version_major": 2,
              "version_minor": 0
            },
            "text/plain": [
              "Summarize dataset:   0%|          | 0/5 [00:00<?, ?it/s]"
            ]
          },
          "metadata": {},
          "output_type": "display_data"
        },
        {
          "data": {
            "application/vnd.jupyter.widget-view+json": {
              "model_id": "0e3eeae418974b2b9373f5aab8d33343",
              "version_major": 2,
              "version_minor": 0
            },
            "text/plain": [
              "Generate report structure:   0%|          | 0/1 [00:00<?, ?it/s]"
            ]
          },
          "metadata": {},
          "output_type": "display_data"
        },
        {
          "data": {
            "application/vnd.jupyter.widget-view+json": {
              "model_id": "39d8b863e715419bb93f3940b400c74e",
              "version_major": 2,
              "version_minor": 0
            },
            "text/plain": [
              "Render widgets:   0%|          | 0/1 [00:00<?, ?it/s]"
            ]
          },
          "metadata": {},
          "output_type": "display_data"
        }
      ],
      "source": [
        "profile.to_widgets()"
      ]
    },
    {
      "cell_type": "code",
      "execution_count": 70,
      "metadata": {
        "id": "zvOpILp_fF_M"
      },
      "outputs": [],
      "source": [
        "import folium\n",
        "\n",
        "data_routine = pd.read_excel('/content/Combined routine-chemistry-analysis-26Nov01-29Mar19.xlsx')\n",
        "\n",
        "# Create a map centered around the mean latitude and longitude\n",
        "map = folium.Map(location=[data_routine['Latitude'].mean(), data_routine['Longitude'].mean()], zoom_start=5)\n",
        "\n",
        "# Add markers for each well location using Latitude and Longitude\n",
        "for index, row in data_routine.iterrows():\n",
        "    folium.Marker([row['Latitude'], row['Longitude']], popup=row['SampleID']).add_to(map)\n",
        "\n",
        "# Save the map to an HTML file\n",
        "map.save('map.html')\n"
      ]
    },
    {
      "cell_type": "markdown",
      "metadata": {
        "id": "Sixp8PgYCvKl"
      },
      "source": [
        "##**Data Cleaning**"
      ]
    },
    {
      "cell_type": "markdown",
      "metadata": {
        "id": "FmPrdCrhCnpg"
      },
      "source": [
        "The attribute 'Iron' is initially part of the trace elements package up to September 2018. Subsequently, it transitions to the routine chemistry package. During this transition, values for 'Iron' are denoted as \"-99\", indicating that the sample was not analyzed for this parameter. To update the dataset accurately, values for 'Iron' need to be retrieved from the routine chemistry package."
      ]
    }
  ],
  "metadata": {
    "colab": {
      "provenance": [],
      "authorship_tag": "ABX9TyPzeT0R5LOtbObwcpUtuiTZ",
      "include_colab_link": true
    },
    "kernelspec": {
      "display_name": "Python 3",
      "name": "python3"
    },
    "language_info": {
      "name": "python"
    },
    "widgets": {
      "application/vnd.jupyter.widget-state+json": {
        "02244470d1594c17b2f9f699b85df183": {
          "model_module": "@jupyter-widgets/base",
          "model_module_version": "1.2.0",
          "model_name": "LayoutModel",
          "state": {
            "_model_module": "@jupyter-widgets/base",
            "_model_module_version": "1.2.0",
            "_model_name": "LayoutModel",
            "_view_count": null,
            "_view_module": "@jupyter-widgets/base",
            "_view_module_version": "1.2.0",
            "_view_name": "LayoutView",
            "align_content": null,
            "align_items": null,
            "align_self": null,
            "border": null,
            "bottom": null,
            "display": null,
            "flex": null,
            "flex_flow": null,
            "grid_area": null,
            "grid_auto_columns": null,
            "grid_auto_flow": null,
            "grid_auto_rows": null,
            "grid_column": null,
            "grid_gap": null,
            "grid_row": null,
            "grid_template_areas": null,
            "grid_template_columns": null,
            "grid_template_rows": null,
            "height": null,
            "justify_content": null,
            "justify_items": null,
            "left": null,
            "margin": null,
            "max_height": null,
            "max_width": null,
            "min_height": null,
            "min_width": null,
            "object_fit": null,
            "object_position": null,
            "order": null,
            "overflow": null,
            "overflow_x": null,
            "overflow_y": null,
            "padding": null,
            "right": null,
            "top": null,
            "visibility": null,
            "width": null
          }
        },
        "0e3eeae418974b2b9373f5aab8d33343": {
          "model_module": "@jupyter-widgets/controls",
          "model_module_version": "1.5.0",
          "model_name": "HBoxModel",
          "state": {
            "_dom_classes": [],
            "_model_module": "@jupyter-widgets/controls",
            "_model_module_version": "1.5.0",
            "_model_name": "HBoxModel",
            "_view_count": null,
            "_view_module": "@jupyter-widgets/controls",
            "_view_module_version": "1.5.0",
            "_view_name": "HBoxView",
            "box_style": "",
            "children": [
              "IPY_MODEL_892f78ef714a4fde9d9ad8297b328886",
              "IPY_MODEL_a44fd1ed01a74069afbb33a9fbe0ffb7",
              "IPY_MODEL_7e0d3455b321490c887a77415a05fdb6"
            ],
            "layout": "IPY_MODEL_356a2fb460e6466a84f133e2f39c8fa4"
          }
        },
        "0eb2379f4c5f4a79aef98755ce9306bb": {
          "model_module": "@jupyter-widgets/base",
          "model_module_version": "1.2.0",
          "model_name": "LayoutModel",
          "state": {
            "_model_module": "@jupyter-widgets/base",
            "_model_module_version": "1.2.0",
            "_model_name": "LayoutModel",
            "_view_count": null,
            "_view_module": "@jupyter-widgets/base",
            "_view_module_version": "1.2.0",
            "_view_name": "LayoutView",
            "align_content": null,
            "align_items": null,
            "align_self": null,
            "border": null,
            "bottom": null,
            "display": null,
            "flex": null,
            "flex_flow": null,
            "grid_area": null,
            "grid_auto_columns": null,
            "grid_auto_flow": null,
            "grid_auto_rows": null,
            "grid_column": null,
            "grid_gap": null,
            "grid_row": null,
            "grid_template_areas": null,
            "grid_template_columns": null,
            "grid_template_rows": null,
            "height": null,
            "justify_content": null,
            "justify_items": null,
            "left": null,
            "margin": null,
            "max_height": null,
            "max_width": null,
            "min_height": null,
            "min_width": null,
            "object_fit": null,
            "object_position": null,
            "order": null,
            "overflow": null,
            "overflow_x": null,
            "overflow_y": null,
            "padding": null,
            "right": null,
            "top": null,
            "visibility": null,
            "width": null
          }
        },
        "1e3a82c9043e4087aac0840f50f01c3d": {
          "model_module": "@jupyter-widgets/controls",
          "model_module_version": "1.5.0",
          "model_name": "HTMLModel",
          "state": {
            "_dom_classes": [],
            "_model_module": "@jupyter-widgets/controls",
            "_model_module_version": "1.5.0",
            "_model_name": "HTMLModel",
            "_view_count": null,
            "_view_module": "@jupyter-widgets/controls",
            "_view_module_version": "1.5.0",
            "_view_name": "HTMLView",
            "description": "",
            "description_tooltip": null,
            "layout": "IPY_MODEL_2327e5a52b0b4a60b68ed9dfd1ef1d42",
            "placeholder": "​",
            "style": "IPY_MODEL_80459a05559348e58d3f29caebd04ae7",
            "value": " 434/434 [02:11&lt;00:00,  2.74it/s, Completed]"
          }
        },
        "2327e5a52b0b4a60b68ed9dfd1ef1d42": {
          "model_module": "@jupyter-widgets/base",
          "model_module_version": "1.2.0",
          "model_name": "LayoutModel",
          "state": {
            "_model_module": "@jupyter-widgets/base",
            "_model_module_version": "1.2.0",
            "_model_name": "LayoutModel",
            "_view_count": null,
            "_view_module": "@jupyter-widgets/base",
            "_view_module_version": "1.2.0",
            "_view_name": "LayoutView",
            "align_content": null,
            "align_items": null,
            "align_self": null,
            "border": null,
            "bottom": null,
            "display": null,
            "flex": null,
            "flex_flow": null,
            "grid_area": null,
            "grid_auto_columns": null,
            "grid_auto_flow": null,
            "grid_auto_rows": null,
            "grid_column": null,
            "grid_gap": null,
            "grid_row": null,
            "grid_template_areas": null,
            "grid_template_columns": null,
            "grid_template_rows": null,
            "height": null,
            "justify_content": null,
            "justify_items": null,
            "left": null,
            "margin": null,
            "max_height": null,
            "max_width": null,
            "min_height": null,
            "min_width": null,
            "object_fit": null,
            "object_position": null,
            "order": null,
            "overflow": null,
            "overflow_x": null,
            "overflow_y": null,
            "padding": null,
            "right": null,
            "top": null,
            "visibility": null,
            "width": null
          }
        },
        "356a2fb460e6466a84f133e2f39c8fa4": {
          "model_module": "@jupyter-widgets/base",
          "model_module_version": "1.2.0",
          "model_name": "LayoutModel",
          "state": {
            "_model_module": "@jupyter-widgets/base",
            "_model_module_version": "1.2.0",
            "_model_name": "LayoutModel",
            "_view_count": null,
            "_view_module": "@jupyter-widgets/base",
            "_view_module_version": "1.2.0",
            "_view_name": "LayoutView",
            "align_content": null,
            "align_items": null,
            "align_self": null,
            "border": null,
            "bottom": null,
            "display": null,
            "flex": null,
            "flex_flow": null,
            "grid_area": null,
            "grid_auto_columns": null,
            "grid_auto_flow": null,
            "grid_auto_rows": null,
            "grid_column": null,
            "grid_gap": null,
            "grid_row": null,
            "grid_template_areas": null,
            "grid_template_columns": null,
            "grid_template_rows": null,
            "height": null,
            "justify_content": null,
            "justify_items": null,
            "left": null,
            "margin": null,
            "max_height": null,
            "max_width": null,
            "min_height": null,
            "min_width": null,
            "object_fit": null,
            "object_position": null,
            "order": null,
            "overflow": null,
            "overflow_x": null,
            "overflow_y": null,
            "padding": null,
            "right": null,
            "top": null,
            "visibility": null,
            "width": null
          }
        },
        "35c934dd06144ff986161ec4c4ea0227": {
          "model_module": "@jupyter-widgets/controls",
          "model_module_version": "1.5.0",
          "model_name": "FloatProgressModel",
          "state": {
            "_dom_classes": [],
            "_model_module": "@jupyter-widgets/controls",
            "_model_module_version": "1.5.0",
            "_model_name": "FloatProgressModel",
            "_view_count": null,
            "_view_module": "@jupyter-widgets/controls",
            "_view_module_version": "1.5.0",
            "_view_name": "ProgressView",
            "bar_style": "",
            "description": "",
            "description_tooltip": null,
            "layout": "IPY_MODEL_8565306650ed4886b567c4788f12d2cf",
            "max": 1,
            "min": 0,
            "orientation": "horizontal",
            "style": "IPY_MODEL_b467abd9c978471bb69791a577a4ffe8",
            "value": 0
          }
        },
        "373781546f6b41ea80eb1560fd662a96": {
          "model_module": "@jupyter-widgets/controls",
          "model_module_version": "1.5.0",
          "model_name": "HBoxModel",
          "state": {
            "_dom_classes": [],
            "_model_module": "@jupyter-widgets/controls",
            "_model_module_version": "1.5.0",
            "_model_name": "HBoxModel",
            "_view_count": null,
            "_view_module": "@jupyter-widgets/controls",
            "_view_module_version": "1.5.0",
            "_view_name": "HBoxView",
            "box_style": "",
            "children": [
              "IPY_MODEL_657bd6a401c9415295070f44bcc147e8",
              "IPY_MODEL_e45172218bad479ba95261d6264fbe8f",
              "IPY_MODEL_1e3a82c9043e4087aac0840f50f01c3d"
            ],
            "layout": "IPY_MODEL_597dd3bef6d64cf597938bad3326b204"
          }
        },
        "386856fe14cd49329726b38294ea477a": {
          "model_module": "@jupyter-widgets/controls",
          "model_module_version": "1.5.0",
          "model_name": "ProgressStyleModel",
          "state": {
            "_model_module": "@jupyter-widgets/controls",
            "_model_module_version": "1.5.0",
            "_model_name": "ProgressStyleModel",
            "_view_count": null,
            "_view_module": "@jupyter-widgets/base",
            "_view_module_version": "1.2.0",
            "_view_name": "StyleView",
            "bar_color": null,
            "description_width": ""
          }
        },
        "39d8b863e715419bb93f3940b400c74e": {
          "model_module": "@jupyter-widgets/controls",
          "model_module_version": "1.5.0",
          "model_name": "HBoxModel",
          "state": {
            "_dom_classes": [],
            "_model_module": "@jupyter-widgets/controls",
            "_model_module_version": "1.5.0",
            "_model_name": "HBoxModel",
            "_view_count": null,
            "_view_module": "@jupyter-widgets/controls",
            "_view_module_version": "1.5.0",
            "_view_name": "HBoxView",
            "box_style": "",
            "children": [
              "IPY_MODEL_f6cebdd2fbc5416690c590f97a2be009",
              "IPY_MODEL_35c934dd06144ff986161ec4c4ea0227",
              "IPY_MODEL_4459170e5f5842458643236fb57637cb"
            ],
            "layout": "IPY_MODEL_0eb2379f4c5f4a79aef98755ce9306bb"
          }
        },
        "42d430bf9551420ebca2052aad439242": {
          "model_module": "@jupyter-widgets/base",
          "model_module_version": "1.2.0",
          "model_name": "LayoutModel",
          "state": {
            "_model_module": "@jupyter-widgets/base",
            "_model_module_version": "1.2.0",
            "_model_name": "LayoutModel",
            "_view_count": null,
            "_view_module": "@jupyter-widgets/base",
            "_view_module_version": "1.2.0",
            "_view_name": "LayoutView",
            "align_content": null,
            "align_items": null,
            "align_self": null,
            "border": null,
            "bottom": null,
            "display": null,
            "flex": null,
            "flex_flow": null,
            "grid_area": null,
            "grid_auto_columns": null,
            "grid_auto_flow": null,
            "grid_auto_rows": null,
            "grid_column": null,
            "grid_gap": null,
            "grid_row": null,
            "grid_template_areas": null,
            "grid_template_columns": null,
            "grid_template_rows": null,
            "height": null,
            "justify_content": null,
            "justify_items": null,
            "left": null,
            "margin": null,
            "max_height": null,
            "max_width": null,
            "min_height": null,
            "min_width": null,
            "object_fit": null,
            "object_position": null,
            "order": null,
            "overflow": null,
            "overflow_x": null,
            "overflow_y": null,
            "padding": null,
            "right": null,
            "top": null,
            "visibility": null,
            "width": null
          }
        },
        "4459170e5f5842458643236fb57637cb": {
          "model_module": "@jupyter-widgets/controls",
          "model_module_version": "1.5.0",
          "model_name": "HTMLModel",
          "state": {
            "_dom_classes": [],
            "_model_module": "@jupyter-widgets/controls",
            "_model_module_version": "1.5.0",
            "_model_name": "HTMLModel",
            "_view_count": null,
            "_view_module": "@jupyter-widgets/controls",
            "_view_module_version": "1.5.0",
            "_view_name": "HTMLView",
            "description": "",
            "description_tooltip": null,
            "layout": "IPY_MODEL_02244470d1594c17b2f9f699b85df183",
            "placeholder": "​",
            "style": "IPY_MODEL_b9161c8517314ccbbd5c7bf95db48633",
            "value": " 0/1 [00:00&lt;?, ?it/s]"
          }
        },
        "597dd3bef6d64cf597938bad3326b204": {
          "model_module": "@jupyter-widgets/base",
          "model_module_version": "1.2.0",
          "model_name": "LayoutModel",
          "state": {
            "_model_module": "@jupyter-widgets/base",
            "_model_module_version": "1.2.0",
            "_model_name": "LayoutModel",
            "_view_count": null,
            "_view_module": "@jupyter-widgets/base",
            "_view_module_version": "1.2.0",
            "_view_name": "LayoutView",
            "align_content": null,
            "align_items": null,
            "align_self": null,
            "border": null,
            "bottom": null,
            "display": null,
            "flex": null,
            "flex_flow": null,
            "grid_area": null,
            "grid_auto_columns": null,
            "grid_auto_flow": null,
            "grid_auto_rows": null,
            "grid_column": null,
            "grid_gap": null,
            "grid_row": null,
            "grid_template_areas": null,
            "grid_template_columns": null,
            "grid_template_rows": null,
            "height": null,
            "justify_content": null,
            "justify_items": null,
            "left": null,
            "margin": null,
            "max_height": null,
            "max_width": null,
            "min_height": null,
            "min_width": null,
            "object_fit": null,
            "object_position": null,
            "order": null,
            "overflow": null,
            "overflow_x": null,
            "overflow_y": null,
            "padding": null,
            "right": null,
            "top": null,
            "visibility": null,
            "width": null
          }
        },
        "657bd6a401c9415295070f44bcc147e8": {
          "model_module": "@jupyter-widgets/controls",
          "model_module_version": "1.5.0",
          "model_name": "HTMLModel",
          "state": {
            "_dom_classes": [],
            "_model_module": "@jupyter-widgets/controls",
            "_model_module_version": "1.5.0",
            "_model_name": "HTMLModel",
            "_view_count": null,
            "_view_module": "@jupyter-widgets/controls",
            "_view_module_version": "1.5.0",
            "_view_name": "HTMLView",
            "description": "",
            "description_tooltip": null,
            "layout": "IPY_MODEL_89453bab623d462796e2a475e6157a66",
            "placeholder": "​",
            "style": "IPY_MODEL_e18f1dbe80b043b2bb0e3de157c6920e",
            "value": "Summarize dataset: 100%"
          }
        },
        "6af7ed0a7e184c30934622cf4636de2a": {
          "model_module": "@jupyter-widgets/base",
          "model_module_version": "1.2.0",
          "model_name": "LayoutModel",
          "state": {
            "_model_module": "@jupyter-widgets/base",
            "_model_module_version": "1.2.0",
            "_model_name": "LayoutModel",
            "_view_count": null,
            "_view_module": "@jupyter-widgets/base",
            "_view_module_version": "1.2.0",
            "_view_name": "LayoutView",
            "align_content": null,
            "align_items": null,
            "align_self": null,
            "border": null,
            "bottom": null,
            "display": null,
            "flex": null,
            "flex_flow": null,
            "grid_area": null,
            "grid_auto_columns": null,
            "grid_auto_flow": null,
            "grid_auto_rows": null,
            "grid_column": null,
            "grid_gap": null,
            "grid_row": null,
            "grid_template_areas": null,
            "grid_template_columns": null,
            "grid_template_rows": null,
            "height": null,
            "justify_content": null,
            "justify_items": null,
            "left": null,
            "margin": null,
            "max_height": null,
            "max_width": null,
            "min_height": null,
            "min_width": null,
            "object_fit": null,
            "object_position": null,
            "order": null,
            "overflow": null,
            "overflow_x": null,
            "overflow_y": null,
            "padding": null,
            "right": null,
            "top": null,
            "visibility": null,
            "width": null
          }
        },
        "72544c1460b64af0b9a1549fb1c0e15c": {
          "model_module": "@jupyter-widgets/base",
          "model_module_version": "1.2.0",
          "model_name": "LayoutModel",
          "state": {
            "_model_module": "@jupyter-widgets/base",
            "_model_module_version": "1.2.0",
            "_model_name": "LayoutModel",
            "_view_count": null,
            "_view_module": "@jupyter-widgets/base",
            "_view_module_version": "1.2.0",
            "_view_name": "LayoutView",
            "align_content": null,
            "align_items": null,
            "align_self": null,
            "border": null,
            "bottom": null,
            "display": null,
            "flex": null,
            "flex_flow": null,
            "grid_area": null,
            "grid_auto_columns": null,
            "grid_auto_flow": null,
            "grid_auto_rows": null,
            "grid_column": null,
            "grid_gap": null,
            "grid_row": null,
            "grid_template_areas": null,
            "grid_template_columns": null,
            "grid_template_rows": null,
            "height": null,
            "justify_content": null,
            "justify_items": null,
            "left": null,
            "margin": null,
            "max_height": null,
            "max_width": null,
            "min_height": null,
            "min_width": null,
            "object_fit": null,
            "object_position": null,
            "order": null,
            "overflow": null,
            "overflow_x": null,
            "overflow_y": null,
            "padding": null,
            "right": null,
            "top": null,
            "visibility": null,
            "width": null
          }
        },
        "7e0d3455b321490c887a77415a05fdb6": {
          "model_module": "@jupyter-widgets/controls",
          "model_module_version": "1.5.0",
          "model_name": "HTMLModel",
          "state": {
            "_dom_classes": [],
            "_model_module": "@jupyter-widgets/controls",
            "_model_module_version": "1.5.0",
            "_model_name": "HTMLModel",
            "_view_count": null,
            "_view_module": "@jupyter-widgets/controls",
            "_view_module_version": "1.5.0",
            "_view_name": "HTMLView",
            "description": "",
            "description_tooltip": null,
            "layout": "IPY_MODEL_d46c853442804fcdba5e21df5d44abb3",
            "placeholder": "​",
            "style": "IPY_MODEL_b46a20d1524043c7a0bcec62163e15fe",
            "value": " 1/1 [00:18&lt;00:00, 18.63s/it]"
          }
        },
        "80459a05559348e58d3f29caebd04ae7": {
          "model_module": "@jupyter-widgets/controls",
          "model_module_version": "1.5.0",
          "model_name": "DescriptionStyleModel",
          "state": {
            "_model_module": "@jupyter-widgets/controls",
            "_model_module_version": "1.5.0",
            "_model_name": "DescriptionStyleModel",
            "_view_count": null,
            "_view_module": "@jupyter-widgets/base",
            "_view_module_version": "1.2.0",
            "_view_name": "StyleView",
            "description_width": ""
          }
        },
        "8565306650ed4886b567c4788f12d2cf": {
          "model_module": "@jupyter-widgets/base",
          "model_module_version": "1.2.0",
          "model_name": "LayoutModel",
          "state": {
            "_model_module": "@jupyter-widgets/base",
            "_model_module_version": "1.2.0",
            "_model_name": "LayoutModel",
            "_view_count": null,
            "_view_module": "@jupyter-widgets/base",
            "_view_module_version": "1.2.0",
            "_view_name": "LayoutView",
            "align_content": null,
            "align_items": null,
            "align_self": null,
            "border": null,
            "bottom": null,
            "display": null,
            "flex": null,
            "flex_flow": null,
            "grid_area": null,
            "grid_auto_columns": null,
            "grid_auto_flow": null,
            "grid_auto_rows": null,
            "grid_column": null,
            "grid_gap": null,
            "grid_row": null,
            "grid_template_areas": null,
            "grid_template_columns": null,
            "grid_template_rows": null,
            "height": null,
            "justify_content": null,
            "justify_items": null,
            "left": null,
            "margin": null,
            "max_height": null,
            "max_width": null,
            "min_height": null,
            "min_width": null,
            "object_fit": null,
            "object_position": null,
            "order": null,
            "overflow": null,
            "overflow_x": null,
            "overflow_y": null,
            "padding": null,
            "right": null,
            "top": null,
            "visibility": null,
            "width": null
          }
        },
        "892f78ef714a4fde9d9ad8297b328886": {
          "model_module": "@jupyter-widgets/controls",
          "model_module_version": "1.5.0",
          "model_name": "HTMLModel",
          "state": {
            "_dom_classes": [],
            "_model_module": "@jupyter-widgets/controls",
            "_model_module_version": "1.5.0",
            "_model_name": "HTMLModel",
            "_view_count": null,
            "_view_module": "@jupyter-widgets/controls",
            "_view_module_version": "1.5.0",
            "_view_name": "HTMLView",
            "description": "",
            "description_tooltip": null,
            "layout": "IPY_MODEL_6af7ed0a7e184c30934622cf4636de2a",
            "placeholder": "​",
            "style": "IPY_MODEL_dd010d7ac57d4710a6677f6bb0b9069c",
            "value": "Generate report structure: 100%"
          }
        },
        "89453bab623d462796e2a475e6157a66": {
          "model_module": "@jupyter-widgets/base",
          "model_module_version": "1.2.0",
          "model_name": "LayoutModel",
          "state": {
            "_model_module": "@jupyter-widgets/base",
            "_model_module_version": "1.2.0",
            "_model_name": "LayoutModel",
            "_view_count": null,
            "_view_module": "@jupyter-widgets/base",
            "_view_module_version": "1.2.0",
            "_view_name": "LayoutView",
            "align_content": null,
            "align_items": null,
            "align_self": null,
            "border": null,
            "bottom": null,
            "display": null,
            "flex": null,
            "flex_flow": null,
            "grid_area": null,
            "grid_auto_columns": null,
            "grid_auto_flow": null,
            "grid_auto_rows": null,
            "grid_column": null,
            "grid_gap": null,
            "grid_row": null,
            "grid_template_areas": null,
            "grid_template_columns": null,
            "grid_template_rows": null,
            "height": null,
            "justify_content": null,
            "justify_items": null,
            "left": null,
            "margin": null,
            "max_height": null,
            "max_width": null,
            "min_height": null,
            "min_width": null,
            "object_fit": null,
            "object_position": null,
            "order": null,
            "overflow": null,
            "overflow_x": null,
            "overflow_y": null,
            "padding": null,
            "right": null,
            "top": null,
            "visibility": null,
            "width": null
          }
        },
        "a44fd1ed01a74069afbb33a9fbe0ffb7": {
          "model_module": "@jupyter-widgets/controls",
          "model_module_version": "1.5.0",
          "model_name": "FloatProgressModel",
          "state": {
            "_dom_classes": [],
            "_model_module": "@jupyter-widgets/controls",
            "_model_module_version": "1.5.0",
            "_model_name": "FloatProgressModel",
            "_view_count": null,
            "_view_module": "@jupyter-widgets/controls",
            "_view_module_version": "1.5.0",
            "_view_name": "ProgressView",
            "bar_style": "success",
            "description": "",
            "description_tooltip": null,
            "layout": "IPY_MODEL_ea2cef9d086e471dbc0c1a247164c17d",
            "max": 1,
            "min": 0,
            "orientation": "horizontal",
            "style": "IPY_MODEL_e8d1bee13fc64f8ba45359dffa48a78e",
            "value": 1
          }
        },
        "b467abd9c978471bb69791a577a4ffe8": {
          "model_module": "@jupyter-widgets/controls",
          "model_module_version": "1.5.0",
          "model_name": "ProgressStyleModel",
          "state": {
            "_model_module": "@jupyter-widgets/controls",
            "_model_module_version": "1.5.0",
            "_model_name": "ProgressStyleModel",
            "_view_count": null,
            "_view_module": "@jupyter-widgets/base",
            "_view_module_version": "1.2.0",
            "_view_name": "StyleView",
            "bar_color": null,
            "description_width": ""
          }
        },
        "b46a20d1524043c7a0bcec62163e15fe": {
          "model_module": "@jupyter-widgets/controls",
          "model_module_version": "1.5.0",
          "model_name": "DescriptionStyleModel",
          "state": {
            "_model_module": "@jupyter-widgets/controls",
            "_model_module_version": "1.5.0",
            "_model_name": "DescriptionStyleModel",
            "_view_count": null,
            "_view_module": "@jupyter-widgets/base",
            "_view_module_version": "1.2.0",
            "_view_name": "StyleView",
            "description_width": ""
          }
        },
        "b9161c8517314ccbbd5c7bf95db48633": {
          "model_module": "@jupyter-widgets/controls",
          "model_module_version": "1.5.0",
          "model_name": "DescriptionStyleModel",
          "state": {
            "_model_module": "@jupyter-widgets/controls",
            "_model_module_version": "1.5.0",
            "_model_name": "DescriptionStyleModel",
            "_view_count": null,
            "_view_module": "@jupyter-widgets/base",
            "_view_module_version": "1.2.0",
            "_view_name": "StyleView",
            "description_width": ""
          }
        },
        "caebba6a710b4ba688f9cec5161c0d80": {
          "model_module": "@jupyter-widgets/controls",
          "model_module_version": "1.5.0",
          "model_name": "DescriptionStyleModel",
          "state": {
            "_model_module": "@jupyter-widgets/controls",
            "_model_module_version": "1.5.0",
            "_model_name": "DescriptionStyleModel",
            "_view_count": null,
            "_view_module": "@jupyter-widgets/base",
            "_view_module_version": "1.2.0",
            "_view_name": "StyleView",
            "description_width": ""
          }
        },
        "d46c853442804fcdba5e21df5d44abb3": {
          "model_module": "@jupyter-widgets/base",
          "model_module_version": "1.2.0",
          "model_name": "LayoutModel",
          "state": {
            "_model_module": "@jupyter-widgets/base",
            "_model_module_version": "1.2.0",
            "_model_name": "LayoutModel",
            "_view_count": null,
            "_view_module": "@jupyter-widgets/base",
            "_view_module_version": "1.2.0",
            "_view_name": "LayoutView",
            "align_content": null,
            "align_items": null,
            "align_self": null,
            "border": null,
            "bottom": null,
            "display": null,
            "flex": null,
            "flex_flow": null,
            "grid_area": null,
            "grid_auto_columns": null,
            "grid_auto_flow": null,
            "grid_auto_rows": null,
            "grid_column": null,
            "grid_gap": null,
            "grid_row": null,
            "grid_template_areas": null,
            "grid_template_columns": null,
            "grid_template_rows": null,
            "height": null,
            "justify_content": null,
            "justify_items": null,
            "left": null,
            "margin": null,
            "max_height": null,
            "max_width": null,
            "min_height": null,
            "min_width": null,
            "object_fit": null,
            "object_position": null,
            "order": null,
            "overflow": null,
            "overflow_x": null,
            "overflow_y": null,
            "padding": null,
            "right": null,
            "top": null,
            "visibility": null,
            "width": null
          }
        },
        "dd010d7ac57d4710a6677f6bb0b9069c": {
          "model_module": "@jupyter-widgets/controls",
          "model_module_version": "1.5.0",
          "model_name": "DescriptionStyleModel",
          "state": {
            "_model_module": "@jupyter-widgets/controls",
            "_model_module_version": "1.5.0",
            "_model_name": "DescriptionStyleModel",
            "_view_count": null,
            "_view_module": "@jupyter-widgets/base",
            "_view_module_version": "1.2.0",
            "_view_name": "StyleView",
            "description_width": ""
          }
        },
        "e18f1dbe80b043b2bb0e3de157c6920e": {
          "model_module": "@jupyter-widgets/controls",
          "model_module_version": "1.5.0",
          "model_name": "DescriptionStyleModel",
          "state": {
            "_model_module": "@jupyter-widgets/controls",
            "_model_module_version": "1.5.0",
            "_model_name": "DescriptionStyleModel",
            "_view_count": null,
            "_view_module": "@jupyter-widgets/base",
            "_view_module_version": "1.2.0",
            "_view_name": "StyleView",
            "description_width": ""
          }
        },
        "e45172218bad479ba95261d6264fbe8f": {
          "model_module": "@jupyter-widgets/controls",
          "model_module_version": "1.5.0",
          "model_name": "FloatProgressModel",
          "state": {
            "_dom_classes": [],
            "_model_module": "@jupyter-widgets/controls",
            "_model_module_version": "1.5.0",
            "_model_name": "FloatProgressModel",
            "_view_count": null,
            "_view_module": "@jupyter-widgets/controls",
            "_view_module_version": "1.5.0",
            "_view_name": "ProgressView",
            "bar_style": "success",
            "description": "",
            "description_tooltip": null,
            "layout": "IPY_MODEL_42d430bf9551420ebca2052aad439242",
            "max": 5,
            "min": 0,
            "orientation": "horizontal",
            "style": "IPY_MODEL_386856fe14cd49329726b38294ea477a",
            "value": 5
          }
        },
        "e8d1bee13fc64f8ba45359dffa48a78e": {
          "model_module": "@jupyter-widgets/controls",
          "model_module_version": "1.5.0",
          "model_name": "ProgressStyleModel",
          "state": {
            "_model_module": "@jupyter-widgets/controls",
            "_model_module_version": "1.5.0",
            "_model_name": "ProgressStyleModel",
            "_view_count": null,
            "_view_module": "@jupyter-widgets/base",
            "_view_module_version": "1.2.0",
            "_view_name": "StyleView",
            "bar_color": null,
            "description_width": ""
          }
        },
        "ea2cef9d086e471dbc0c1a247164c17d": {
          "model_module": "@jupyter-widgets/base",
          "model_module_version": "1.2.0",
          "model_name": "LayoutModel",
          "state": {
            "_model_module": "@jupyter-widgets/base",
            "_model_module_version": "1.2.0",
            "_model_name": "LayoutModel",
            "_view_count": null,
            "_view_module": "@jupyter-widgets/base",
            "_view_module_version": "1.2.0",
            "_view_name": "LayoutView",
            "align_content": null,
            "align_items": null,
            "align_self": null,
            "border": null,
            "bottom": null,
            "display": null,
            "flex": null,
            "flex_flow": null,
            "grid_area": null,
            "grid_auto_columns": null,
            "grid_auto_flow": null,
            "grid_auto_rows": null,
            "grid_column": null,
            "grid_gap": null,
            "grid_row": null,
            "grid_template_areas": null,
            "grid_template_columns": null,
            "grid_template_rows": null,
            "height": null,
            "justify_content": null,
            "justify_items": null,
            "left": null,
            "margin": null,
            "max_height": null,
            "max_width": null,
            "min_height": null,
            "min_width": null,
            "object_fit": null,
            "object_position": null,
            "order": null,
            "overflow": null,
            "overflow_x": null,
            "overflow_y": null,
            "padding": null,
            "right": null,
            "top": null,
            "visibility": null,
            "width": null
          }
        },
        "f6cebdd2fbc5416690c590f97a2be009": {
          "model_module": "@jupyter-widgets/controls",
          "model_module_version": "1.5.0",
          "model_name": "HTMLModel",
          "state": {
            "_dom_classes": [],
            "_model_module": "@jupyter-widgets/controls",
            "_model_module_version": "1.5.0",
            "_model_name": "HTMLModel",
            "_view_count": null,
            "_view_module": "@jupyter-widgets/controls",
            "_view_module_version": "1.5.0",
            "_view_name": "HTMLView",
            "description": "",
            "description_tooltip": null,
            "layout": "IPY_MODEL_72544c1460b64af0b9a1549fb1c0e15c",
            "placeholder": "​",
            "style": "IPY_MODEL_caebba6a710b4ba688f9cec5161c0d80",
            "value": "Render widgets:   0%"
          }
        }
      }
    }
  },
  "nbformat": 4,
  "nbformat_minor": 0
}